{
 "cells": [
  {
   "cell_type": "code",
   "execution_count": 1,
   "id": "2b0d37f1",
   "metadata": {},
   "outputs": [],
   "source": [
    "%matplotlib inline\n",
    "import importlib\n",
    "import nn\n",
    "importlib.reload(nn)\n",
    "import numpy as np\n",
    "import pandas as pd\n",
    "import matplotlib.pyplot as plt\n",
    "from nn import NeuralNetwork\n",
    "from sklearn.metrics import accuracy_score, f1_score"
   ]
  },
  {
   "cell_type": "code",
   "execution_count": 3,
   "id": "c770d0e4",
   "metadata": {},
   "outputs": [],
   "source": [
    "data_multimodal_train = pd.read_csv(\"dane_nn6/multimodal-sparse-training.csv\")\n",
    "X_multimodal_train = data_multimodal_train[['x']].values.reshape(-1, 1)\n",
    "y_multimodal_train = data_multimodal_train['y'].values.reshape(-1, 1)\n",
    "\n",
    "data_multimodal_test = pd.read_csv(\"dane_nn6/multimodal-sparse-test.csv\")\n",
    "X_multimodal_test = data_multimodal_test[['x']].values.reshape(-1, 1)\n",
    "y_multimodal_test = data_multimodal_test['y'].values.reshape(-1, 1)\n",
    "\n",
    "data_rings3_train = pd.read_csv(\"dane_nn6/rings3-balance-training.csv\")\n",
    "X_rings3_train = data_rings3_train[['x', 'y']].values.reshape(-1, 2)\n",
    "y_rings3_train = data_rings3_train['c'].values.reshape(-1, 1)\n",
    "\n",
    "data_rings3_test = pd.read_csv(\"dane_nn6/rings3-balance-test.csv\")\n",
    "X_rings3_test = data_rings3_test[['x', 'y']].values.reshape(-1, 2)\n",
    "y_rings3_test = data_rings3_test['c'].values.reshape(-1, 1)\n",
    "\n",
    "data_rings5_train = pd.read_csv(\"dane_nn6/rings5-sparse-training.csv\")\n",
    "X_rings5_train = data_rings5_train[['x', 'y']].values.reshape(-1, 2)\n",
    "y_rings5_train = data_rings5_train['c'].values.reshape(-1, 1)\n",
    "\n",
    "data_rings5_test = pd.read_csv(\"dane_nn6/rings5-sparse-test.csv\")\n",
    "X_rings5_test = data_rings5_test[['x', 'y']].values.reshape(-1, 2)\n",
    "y_rings5_test = data_rings5_test['c'].values.reshape(-1, 1)\n",
    "\n",
    "data_xor3_train = pd.read_csv(\"dane_nn6/xor3-balance-training.csv\")\n",
    "X_xor3_train = data_xor3_train[['x', 'y']].values.reshape(-1, 2)\n",
    "y_xor3_train = data_xor3_train['c'].values.reshape(-1, 1)\n"
   ]
  },
  {
   "cell_type": "code",
   "execution_count": 4,
   "id": "a29217a2",
   "metadata": {},
   "outputs": [],
   "source": [
    "def plot_classification_results(X_test, y_test, y_pred, title='Classification Results'):\n",
    "    y_test = y_test.ravel()\n",
    "    y_pred = y_pred.ravel()\n",
    "    \n",
    "    # Identify misclassified points\n",
    "    misclassified = y_pred != y_test\n",
    "    \n",
    "    # Plot correctly classified points\n",
    "    scatter = plt.scatter(X_test[~misclassified, 0], X_test[~misclassified, 1], \n",
    "                          c=y_test[~misclassified], cmap='viridis')\n",
    "    \n",
    "    # Plot misclassified points\n",
    "    plt.scatter(X_test[misclassified, 0], X_test[misclassified, 1],\n",
    "                color='red', marker='x', s=100, \n",
    "                label='Misclassified')\n",
    "    \n",
    "    plt.title(title)\n",
    "    plt.xlabel('Feature 1')\n",
    "    plt.ylabel('Feature 2')\n",
    "    plt.legend()"
   ]
  },
  {
   "cell_type": "code",
   "execution_count": 5,
   "id": "8bf631c3",
   "metadata": {},
   "outputs": [],
   "source": [
    "nn_multimonn_mult1_linear = NeuralNetwork(X_multimodal_train, y_multimodal_train, [1, 96, 1],\n",
    "                   activation_fun=\"linear\", output_activation=\"linear\", loss_fun=\"mse\")\n",
    "\n",
    "nn_multimodal = NeuralNetwork(X_multimodal_train, y_multimodal_train, [1, 32, 64, 32, 1],\n",
    "                              activation_fun=\"tanh\", output_activation=\"linear\", loss_fun=\"mse\")"
   ]
  }
 ],
 "metadata": {
  "kernelspec": {
   "display_name": "Python 3",
   "language": "python",
   "name": "python3"
  },
  "language_info": {
   "codemirror_mode": {
    "name": "ipython",
    "version": 3
   },
   "file_extension": ".py",
   "mimetype": "text/x-python",
   "name": "python",
   "nbconvert_exporter": "python",
   "pygments_lexer": "ipython3",
   "version": "3.13.2"
  }
 },
 "nbformat": 4,
 "nbformat_minor": 5
}
