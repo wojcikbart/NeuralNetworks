{
 "cells": [
  {
   "cell_type": "code",
   "execution_count": 2,
   "metadata": {},
   "outputs": [],
   "source": [
    "%matplotlib inline\n",
    "import importlib\n",
    "import nn\n",
    "importlib.reload(nn)\n",
    "import numpy as np\n",
    "import pandas as pd\n",
    "import matplotlib.pyplot as plt\n",
    "from nn import NeuralNetwork\n",
    "\n"
   ]
  },
  {
   "cell_type": "markdown",
   "metadata": {},
   "source": [
    "### Data loading"
   ]
  },
  {
   "cell_type": "code",
   "execution_count": 6,
   "metadata": {},
   "outputs": [],
   "source": [
    "data_step_train = pd.read_csv(\"dane_nn3/steps-large-training.csv\")\n",
    "data_step_train = data_step_train.drop(data_step_train.columns[0], axis=1)\n",
    "data_step_train.head()\n",
    "X_step_train = data_step_train['x'].values.reshape(-1, 1)\n",
    "y_step_train = data_step_train['y'].values.reshape(-1, 1)\n",
    "\n",
    "data_step_test = pd.read_csv(\"dane_nn3/steps-large-test.csv\")\n",
    "data_step_test = data_step_test.drop(data_step_test.columns[0], axis=1)\n",
    "X_step_test = data_step_test['x'].values.reshape(-1, 1)\n",
    "y_step_test = data_step_test['y'].values.reshape(-1, 1)\n",
    "\n",
    "data_square_train = pd.read_csv(\"dane_nn3/square-large-training.csv\")\n",
    "data_square_train = data_square_train.drop(data_square_train.columns[0], axis=1)\n",
    "data_square_train.head()\n",
    "X_square_train = data_square_train['x'].values.reshape(-1, 1)\n",
    "y_square_train = data_square_train['y'].values.reshape(-1, 1)\n",
    "\n",
    "data_square_test = pd.read_csv(\"dane_nn3/square-large-test.csv\")\n",
    "data_square_test = data_square_test.drop(data_square_test.columns[0], axis=1)\n",
    "data_square_test.head()\n",
    "X_square_test = data_square_test['x'].values.reshape(-1, 1)\n",
    "y_square_test = data_square_test['y'].values.reshape(-1, 1)\n",
    "\n",
    "multimodal_train = pd.read_csv(\"dane_nn3/multimodal-large-training.csv\")\n",
    "multimodal_train.head()\n",
    "X_multimodal_train = multimodal_train['x'].values.reshape(-1, 1)\n",
    "y_multimodal_train = multimodal_train['y'].values.reshape(-1, 1)\n",
    "\n",
    "multimodal_test = pd.read_csv(\"dane_nn3/multimodal-large-test.csv\")\n",
    "multimodal_test.head()\n",
    "X_multimodal_test = multimodal_test['x'].values.reshape(-1, 1)\n",
    "y_multimodal_test = multimodal_test['y'].values.reshape(-1, 1)"
   ]
  }
 ],
 "metadata": {
  "kernelspec": {
   "display_name": "Python 3",
   "language": "python",
   "name": "python3"
  },
  "language_info": {
   "codemirror_mode": {
    "name": "ipython",
    "version": 3
   },
   "file_extension": ".py",
   "mimetype": "text/x-python",
   "name": "python",
   "nbconvert_exporter": "python",
   "pygments_lexer": "ipython3",
   "version": "3.13.2"
  }
 },
 "nbformat": 4,
 "nbformat_minor": 2
}
